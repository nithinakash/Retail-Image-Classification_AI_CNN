{
 "cells": [
  {
   "cell_type": "markdown",
   "id": "fc9643b6",
   "metadata": {},
   "source": [
    "### Packages Required"
   ]
  },
  {
   "cell_type": "code",
   "execution_count": 1,
   "id": "b626620b",
   "metadata": {},
   "outputs": [],
   "source": [
    "import numpy as np\n",
    "import pandas as pd\n",
    "import matplotlib.pyplot as plt\n",
    "%matplotlib inline\n",
    "from matplotlib import ticker\n",
    "import seaborn as sns"
   ]
  },
  {
   "cell_type": "code",
   "execution_count": 2,
   "id": "83558813",
   "metadata": {},
   "outputs": [],
   "source": [
    "from sklearn.model_selection import train_test_split\n",
    "from sklearn.utils import shuffle\n",
    "from sklearn import preprocessing\n",
    "from sklearn.preprocessing import StandardScaler,minmax_scale\n",
    "from sklearn.metrics import confusion_matrix,classification_report\n",
    "\n",
    "from skimage import feature,data,io,measure"
   ]
  },
  {
   "cell_type": "code",
   "execution_count": 3,
   "id": "7b4ff56f",
   "metadata": {},
   "outputs": [],
   "source": [
    "import os,random\n",
    "import itertools\n",
    "import keras\n",
    "import PIL\n",
    "from PIL import Image\n",
    "from keras import applications\n",
    "from keras import backend as k\n",
    "from keras.models import Sequential\n",
    "from keras.layers import Input,Dense,Activation,Dropout,Conv2D,MaxPooling2D,Flatten\n",
    "from keras.optimizers import RMSprop,Adam\n",
    "from keras.preprocessing.image import ImageDataGenerator,image_utils\n",
    "from keras.utils import np_utils\n",
    "from keras.callbacks import ModelCheckpoint,Callback,EarlyStopping"
   ]
  },
  {
   "cell_type": "markdown",
   "id": "862a67c6",
   "metadata": {},
   "source": [
    "### Datasets"
   ]
  },
  {
   "cell_type": "code",
   "execution_count": 4,
   "id": "671cfe15",
   "metadata": {},
   "outputs": [],
   "source": [
    "path = 'C:/Users/Nithin/Downloads/Retail Image Classification_AI_CNN/'"
   ]
  },
  {
   "cell_type": "code",
   "execution_count": 5,
   "id": "4b7ab02d",
   "metadata": {},
   "outputs": [],
   "source": [
    "train_labels = pd.read_csv(path+'Dataset Labels/train.csv')\n",
    "test_labels = pd.read_csv(path+'Dataset Labels/test.csv')"
   ]
  },
  {
   "cell_type": "code",
   "execution_count": 6,
   "id": "dfbf1214",
   "metadata": {},
   "outputs": [
    {
     "data": {
      "text/plain": [
       "3215"
      ]
     },
     "execution_count": 6,
     "metadata": {},
     "output_type": "execute_result"
    }
   ],
   "source": [
    "train_labels.label.count()"
   ]
  },
  {
   "cell_type": "code",
   "execution_count": 7,
   "id": "22ffdb01",
   "metadata": {},
   "outputs": [
    {
     "data": {
      "text/plain": [
       "<AxesSubplot:>"
      ]
     },
     "execution_count": 7,
     "metadata": {},
     "output_type": "execute_result"
    },
    {
     "data": {
      "image/png": "[encoded data removed]",
      "text/plain": [
       "<Figure size 1080x864 with 1 Axes>"
      ]
     },
     "metadata": {
      "needs_background": "light"
     },
     "output_type": "display_data"
    }
   ],
   "source": [
    "train_labels.label.value_counts().plot(kind='barh',figsize=(15,12))"
   ]
  },
  {
   "cell_type": "code",
   "execution_count": 8,
   "id": "98fb07db",
   "metadata": {},
   "outputs": [],
   "source": [
    "categories = train_labels.label.unique()"
   ]
  },
  {
   "cell_type": "code",
   "execution_count": 9,
   "id": "003c7948",
   "metadata": {},
   "outputs": [
    {
     "data": {
      "text/plain": [
       "array(['rice', 'candy', 'jam', 'coffee', 'vinegar', 'chocolate', 'sugar',\n",
       "       'water', 'juice', 'milk', 'soda', 'nuts', 'chips', 'spices',\n",
       "       'cereal', 'beans', 'cake', 'honey', 'flour', 'pasta',\n",
       "       'tomatosauce', 'tea', 'corn', 'oil', 'fish'], dtype=object)"
      ]
     },
     "execution_count": 9,
     "metadata": {},
     "output_type": "execute_result"
    }
   ],
   "source": [
    "categories"
   ]
  },
  {
   "cell_type": "code",
   "execution_count": 10,
   "id": "b082ae28",
   "metadata": {},
   "outputs": [],
   "source": [
    "train_labels.image_id = train_labels.image_id + '.PNG'"
   ]
  },
  {
   "cell_type": "code",
   "execution_count": 11,
   "id": "d32dfdb9",
   "metadata": {},
   "outputs": [],
   "source": [
    "datagen = ImageDataGenerator(data_format = k.image_data_format())"
   ]
  },
  {
   "cell_type": "code",
   "execution_count": 12,
   "id": "8672993c",
   "metadata": {},
   "outputs": [
    {
     "name": "stdout",
     "output_type": "stream",
     "text": [
      "Found 3215 validated image filenames belonging to 25 classes.\n"
     ]
    },
    {
     "data": {
      "text/plain": [
       "keras.preprocessing.image.DataFrameIterator"
      ]
     },
     "execution_count": 12,
     "metadata": {},
     "output_type": "execute_result"
    }
   ],
   "source": [
    "train_img = ImageDataGenerator().flow_from_dataframe(dataframe=train_labels,directory=path+'Datasets/train_img',x_col='image_id',y_col='label',target_size=(224,224),\n",
    "                                                     class_mode='categorical',shuffle=True)\n",
    "type(train_img)"
   ]
  },
  {
   "cell_type": "code",
   "execution_count": 13,
   "id": "3796b261",
   "metadata": {},
   "outputs": [],
   "source": [
    "test_labels.image_id = test_labels.image_id + '.PNG'"
   ]
  },
  {
   "cell_type": "code",
   "execution_count": 14,
   "id": "53caf7c1",
   "metadata": {},
   "outputs": [
    {
     "name": "stdout",
     "output_type": "stream",
     "text": [
      "Found 1732 validated image filenames.\n"
     ]
    },
    {
     "data": {
      "text/plain": [
       "keras.preprocessing.image.DataFrameIterator"
      ]
     },
     "execution_count": 14,
     "metadata": {},
     "output_type": "execute_result"
    }
   ],
   "source": [
    "test_img = ImageDataGenerator().flow_from_dataframe(dataframe=test_labels,directory=path+'Datasets/test_img',x_col='image_id',target_size=(224,224),\n",
    "                                                     class_mode='input',shuffle=True)\n",
    "type(test_img)"
   ]
  },
  {
   "cell_type": "code",
   "execution_count": 15,
   "id": "75623357",
   "metadata": {},
   "outputs": [
    {
     "name": "stdout",
     "output_type": "stream",
     "text": [
      "images_shape :  (32, 224, 224, 3)\n",
      "labels_shape :  (32, 25)\n"
     ]
    }
   ],
   "source": [
    "#Train\n",
    "train_imgs,train_labels = next(train_img)\n",
    "print('images_shape : ',train_imgs.shape)\n",
    "print('labels_shape : ',train_labels.shape)"
   ]
  },
  {
   "cell_type": "code",
   "execution_count": 16,
   "id": "fd0ea057",
   "metadata": {},
   "outputs": [
    {
     "name": "stdout",
     "output_type": "stream",
     "text": [
      "images_shape :  (32, 224, 224, 3)\n"
     ]
    }
   ],
   "source": [
    "#Test\n",
    "test_imgs,test_labels = next(test_img)\n",
    "print('images_shape : ',test_imgs.shape)"
   ]
  },
  {
   "cell_type": "markdown",
   "id": "8f2df792",
   "metadata": {},
   "source": [
    "### Model Building"
   ]
  },
  {
   "cell_type": "markdown",
   "id": "cf15e476",
   "metadata": {},
   "source": [
    "**-- Basic Model**"
   ]
  },
  {
   "cell_type": "code",
   "execution_count": 17,
   "id": "04ec1d5e",
   "metadata": {},
   "outputs": [],
   "source": [
    "#Input Parameters\n",
    "batch_size = 643\n",
    "num_classes = len(categories)\n",
    "epochs = 5"
   ]
  },
  {
   "cell_type": "code",
   "execution_count": 18,
   "id": "f4b65add",
   "metadata": {},
   "outputs": [],
   "source": [
    "M0 = Sequential()  # Initialization of network -Inputlayer\n",
    "M0.add(Conv2D(32, kernel_size=(3, 3), activation='relu', input_shape=(224, 224, 3))) # Convolution layer 1\n",
    "M0.add(Conv2D(64, kernel_size=(3, 3), activation='relu'))                          #Convolution Layer 2\n",
    "M0.add(MaxPooling2D(pool_size=(2, 2)))                                             #Pooling layer                                                             \n",
    "M0.add(Flatten())                                                                  #Flatten Layer\n",
    "M0.add(Dense(128, activation='relu'))                                              #Fully connected layer                                                           \n",
    "M0.add(Dense(num_classes, activation='softmax'))  "
   ]
  },
  {
   "cell_type": "code",
   "execution_count": 19,
   "id": "e6bd73ea",
   "metadata": {},
   "outputs": [],
   "source": [
    "M0.compile(loss=keras.losses.categorical_crossentropy,\n",
    "              optimizer=keras.optimizers.Adadelta(),\n",
    "              metrics=['accuracy'])"
   ]
  },
  {
   "cell_type": "code",
   "execution_count": 20,
   "id": "5d0115f4",
   "metadata": {},
   "outputs": [
    {
     "name": "stdout",
     "output_type": "stream",
     "text": [
      "Model: \"sequential\"\n",
      "_________________________________________________________________\n",
      " Layer (type)                Output Shape              Param #   \n",
      "=================================================================\n",
      " conv2d (Conv2D)             (None, 222, 222, 32)      896       \n",
      "                                                                 \n",
      " conv2d_1 (Conv2D)           (None, 220, 220, 64)      18496     \n",
      "                                                                 \n",
      " max_pooling2d (MaxPooling2D  (None, 110, 110, 64)     0         \n",
      " )                                                               \n",
      "                                                                 \n",
      " flatten (Flatten)           (None, 774400)            0         \n",
      "                                                                 \n",
      " dense (Dense)               (None, 128)               99123328  \n",
      "                                                                 \n",
      " dense_1 (Dense)             (None, 25)                3225      \n",
      "                                                                 \n",
      "=================================================================\n",
      "Total params: 99,145,945\n",
      "Trainable params: 99,145,945\n",
      "Non-trainable params: 0\n",
      "_________________________________________________________________\n"
     ]
    }
   ],
   "source": [
    "M0.summary()"
   ]
  },
  {
   "cell_type": "code",
   "execution_count": 37,
   "id": "4865f06d",
   "metadata": {},
   "outputs": [
    {
     "name": "stdout",
     "output_type": "stream",
     "text": [
      "Epoch 1/5\n",
      "101/101 [==============================] - 240s 2s/step - loss: 3.1430 - accuracy: 0.0843\n",
      "Epoch 2/5\n",
      "101/101 [==============================] - 238s 2s/step - loss: 3.1160 - accuracy: 0.0918\n",
      "Epoch 3/5\n",
      "101/101 [==============================] - 251s 2s/step - loss: 3.0918 - accuracy: 0.0974\n",
      "Epoch 4/5\n",
      "101/101 [==============================] - 232s 2s/step - loss: 3.0696 - accuracy: 0.1011\n",
      "Epoch 5/5\n",
      "101/101 [==============================] - 181s 2s/step - loss: 3.0286 - accuracy: 0.1039\n"
     ]
    },
    {
     "data": {
      "text/plain": [
       "<keras.callbacks.History at 0x1eda4f4a2e0>"
      ]
     },
     "execution_count": 37,
     "metadata": {},
     "output_type": "execute_result"
    }
   ],
   "source": [
    "M0.fit(train_img,\n",
    "          batch_size=batch_size,\n",
    "          epochs=epochs,\n",
    "          verbose=1)"
   ]
  },
  {
   "cell_type": "code",
   "execution_count": 34,
   "id": "646fc4e5",
   "metadata": {},
   "outputs": [
    {
     "data": {
      "text/plain": [
       "[array([[[[ 2.20760591e-02, -1.21564366e-01,  8.18468183e-02,\n",
       "           -8.03568885e-02, -8.57791752e-02, -5.87016717e-02,\n",
       "            9.37577784e-02, -2.29135458e-03, -4.24983352e-02,\n",
       "           -8.82295519e-03,  3.08251511e-02,  1.21524416e-01,\n",
       "           -2.29231026e-02, -1.41927106e-02,  6.54658675e-02,\n",
       "            5.37292771e-02,  1.23682410e-01,  7.34636420e-03,\n",
       "           -3.91081721e-02,  1.23580083e-01, -9.11644772e-02,\n",
       "           -7.70624653e-02,  1.05629936e-01,  8.24491829e-02,\n",
       "           -1.01737669e-02,  3.55960801e-02, -2.55973800e-03,\n",
       "           -7.48227984e-02, -7.68951774e-02,  1.15483701e-01,\n",
       "           -1.25400200e-01,  9.44162831e-02],\n",
       "          [-1.26739545e-02, -8.67054611e-02, -1.60738993e-02,\n",
       "           -1.93382353e-02, -6.38898760e-02,  5.95182218e-02,\n",
       "            1.18694149e-01, -5.34521714e-02, -1.02659665e-01,\n",
       "            1.07209824e-01,  1.12506464e-01,  1.19576886e-01,\n",
       "           -5.92690222e-02, -5.62921073e-03, -8.76480490e-02,\n",
       "           -4.43947576e-02, -1.29436806e-01, -9.25686806e-02,\n",
       "           -2.63364185e-02, -6.14415891e-02, -5.70770316e-02,\n",
       "           -1.22501858e-01,  1.25035658e-01, -9.42249522e-02,\n",
       "            3.93263586e-02, -8.56088623e-02,  9.56221372e-02,\n",
       "           -8.92527550e-02, -1.30433857e-01, -1.89339127e-02,\n",
       "           -1.15802951e-01,  1.13266736e-01],\n",
       "          [-3.35630029e-02, -7.84983858e-02,  1.27334952e-01,\n",
       "           -6.41242415e-02, -1.11811794e-01, -6.07229881e-02,\n",
       "           -8.55562165e-02, -7.25941211e-02, -4.18674611e-02,\n",
       "            6.15137629e-02, -5.84303550e-02, -4.21456210e-02,\n",
       "            1.34662613e-01,  1.36030063e-01, -2.92422790e-02,\n",
       "           -9.64339897e-02,  2.31900631e-05, -6.02836944e-02,\n",
       "            4.95090708e-02, -1.00302875e-01, -1.21076569e-01,\n",
       "           -3.01589798e-02,  9.96058136e-02,  1.37046710e-01,\n",
       "            6.30577281e-02,  4.54810485e-02,  1.08210467e-01,\n",
       "            1.18225338e-02, -7.69516006e-02,  7.75912851e-02,\n",
       "           -1.28574967e-01, -3.23702395e-02]],\n",
       " \n",
       "         [[-6.83432370e-02, -9.37231630e-02,  8.96624103e-02,\n",
       "            7.11689517e-02, -1.36588141e-01, -1.33800991e-02,\n",
       "            9.78756100e-02, -1.09749071e-01, -1.07185870e-01,\n",
       "            1.01762325e-01, -5.69156418e-03, -8.71474203e-03,\n",
       "           -2.82292138e-03, -1.19095609e-01, -1.05196729e-01,\n",
       "           -7.26536885e-02,  6.06456697e-02, -7.67226517e-02,\n",
       "            3.71179692e-02, -8.57833326e-02, -7.88779110e-02,\n",
       "            3.11050434e-02, -8.09059441e-02, -7.48967603e-02,\n",
       "           -8.65250155e-02, -5.49912639e-02,  1.33488491e-01,\n",
       "           -1.21811539e-01,  7.42500797e-02,  7.53598735e-02,\n",
       "           -2.32191477e-02, -2.03309618e-02],\n",
       "          [ 2.46429536e-02, -1.10587671e-01, -1.16545133e-01,\n",
       "           -6.08674176e-02,  3.45294587e-02,  1.32052928e-01,\n",
       "            8.32440704e-02, -2.33674049e-02, -7.25471303e-02,\n",
       "           -3.34352776e-02, -3.55543457e-02,  1.13059044e-01,\n",
       "            1.90262236e-02, -4.59054187e-02,  6.90898672e-02,\n",
       "            2.03847606e-02, -1.02170385e-01, -4.10127081e-02,\n",
       "           -8.29682872e-02,  5.67764416e-03, -7.02319201e-03,\n",
       "            9.50273573e-02, -9.86439884e-02, -1.08322203e-01,\n",
       "            3.50617655e-02,  2.20839642e-02, -7.69978911e-02,\n",
       "           -5.98147586e-02, -3.75738256e-02, -1.73159200e-03,\n",
       "            1.34474024e-01, -1.07982993e-01],\n",
       "          [-7.48186186e-02,  1.21904299e-01,  6.75674751e-02,\n",
       "            8.25888515e-02,  1.45068523e-02,  1.36833265e-01,\n",
       "           -6.14498258e-02, -2.59069130e-02,  7.23677054e-02,\n",
       "           -6.55765906e-02,  1.27100945e-01,  1.36529803e-01,\n",
       "           -1.79177821e-02,  4.19495255e-02, -8.05513188e-02,\n",
       "           -9.28125009e-02,  8.81827474e-02, -1.14906244e-01,\n",
       "            3.00983712e-03,  1.03892535e-01,  4.75859530e-02,\n",
       "           -7.65340775e-02, -1.30911827e-01,  5.51338829e-02,\n",
       "            2.98946574e-02,  8.93266872e-02, -1.18701689e-01,\n",
       "            3.58899869e-02, -7.22201616e-02,  1.09632351e-01,\n",
       "            8.12721178e-02, -3.99770774e-02]],\n",
       " \n",
       "         [[ 5.75936362e-02,  1.36427537e-01, -1.28481060e-01,\n",
       "           -1.20032720e-01, -4.97172214e-02,  1.03854023e-01,\n",
       "           -1.18741356e-01, -5.56295225e-03, -8.65454692e-03,\n",
       "           -7.82579482e-02, -4.43831057e-04, -3.88884428e-03,\n",
       "           -3.30288522e-02, -7.60027319e-02, -1.25471219e-01,\n",
       "            6.67287707e-02,  1.09635651e-01,  1.20722681e-01,\n",
       "           -1.79954134e-02,  1.37937739e-01, -1.15069568e-01,\n",
       "           -2.01535486e-02, -1.27823085e-01, -4.75706831e-02,\n",
       "            5.13357949e-03, -5.66031002e-02, -6.72621652e-02,\n",
       "            1.04182191e-01, -1.68693978e-02, -5.28257526e-02,\n",
       "            5.54987639e-02,  1.07412592e-01],\n",
       "          [ 5.89239970e-02,  5.71004003e-02, -1.03248507e-01,\n",
       "            5.54972002e-03,  1.00362979e-01,  4.28906418e-02,\n",
       "            8.91457796e-02, -1.83705911e-02,  5.68455011e-02,\n",
       "            1.15248300e-01,  6.55455962e-02,  2.16647033e-02,\n",
       "            7.71561489e-02,  8.41782764e-02,  1.73131078e-02,\n",
       "           -3.40307616e-02, -1.36711538e-01, -9.19346660e-02,\n",
       "           -5.10770082e-02,  8.13443959e-02, -6.84968159e-02,\n",
       "            8.51154402e-02,  1.27735278e-02,  7.17354193e-02,\n",
       "           -8.00432563e-02,  3.41254137e-02,  1.02763157e-02,\n",
       "           -5.37781161e-04, -6.04451671e-02,  1.06709749e-01,\n",
       "           -1.08874559e-01, -2.49855593e-03],\n",
       "          [ 1.14738815e-01,  3.98351848e-02,  4.47114147e-02,\n",
       "            2.48634559e-03, -1.33705840e-01,  8.42249468e-02,\n",
       "            3.28363702e-02, -1.36485308e-01, -1.12747550e-01,\n",
       "           -4.54991385e-02, -5.05049229e-02,  5.51204830e-02,\n",
       "            4.76528779e-02,  1.35609657e-01,  3.42192277e-02,\n",
       "            8.32469389e-02, -2.36939602e-02, -1.28294289e-01,\n",
       "            3.88429500e-02, -4.39016856e-02, -3.67855355e-02,\n",
       "           -3.64996493e-02, -2.36427523e-02,  7.56293237e-02,\n",
       "            1.15436606e-01,  8.74314234e-02, -2.17302963e-02,\n",
       "            7.43832663e-02, -1.13591529e-01,  8.13538879e-02,\n",
       "           -8.67159218e-02, -5.94003685e-02]]],\n",
       " \n",
       " \n",
       "        [[[ 5.94884902e-02,  1.00540012e-01, -3.71023677e-02,\n",
       "           -4.77005765e-02,  3.85885201e-02, -4.61081825e-02,\n",
       "           -8.44998881e-02, -1.05313338e-01, -2.05942951e-02,\n",
       "           -9.87897888e-02,  4.86531630e-02,  6.88381717e-02,\n",
       "            5.43948524e-02,  2.67852023e-02, -1.18482664e-01,\n",
       "           -9.26647037e-02, -1.34138271e-01, -1.00107461e-01,\n",
       "            6.17411919e-02, -6.98561147e-02,  7.61621520e-02,\n",
       "            1.36180520e-01, -4.97651063e-02, -3.74467671e-02,\n",
       "            1.05831109e-01,  6.59771860e-02, -6.62879273e-02,\n",
       "           -4.97597121e-02, -3.79900485e-02,  8.54166597e-02,\n",
       "            1.13137156e-01,  1.15279384e-01],\n",
       "          [ 1.24905393e-01, -8.45095590e-02,  1.23520456e-01,\n",
       "           -1.96849238e-02,  8.59246925e-02, -1.32195711e-01,\n",
       "            1.12191789e-01,  3.31044607e-02,  1.34207606e-01,\n",
       "            1.34098694e-01,  5.04572801e-02, -8.04670453e-02,\n",
       "            1.16346836e-01,  1.33760095e-01, -1.50675012e-03,\n",
       "           -9.48835984e-02,  3.26000503e-03,  1.15976743e-01,\n",
       "            1.34391844e-01,  5.65550737e-02, -8.47143307e-02,\n",
       "           -5.51089309e-02,  2.88775023e-02,  2.90063974e-02,\n",
       "            1.16929069e-01, -1.07764676e-01,  4.20465581e-02,\n",
       "           -3.67266573e-02,  1.00941390e-01, -1.23746611e-01,\n",
       "            1.08035773e-01,  7.06231967e-02],\n",
       "          [-7.85607621e-02,  1.37086004e-01, -1.06453963e-01,\n",
       "           -1.36493847e-01,  8.71622115e-02, -7.60478079e-02,\n",
       "            9.70290452e-02,  1.25127271e-01,  6.81943400e-03,\n",
       "            1.35562971e-01, -1.13823451e-01,  4.91463533e-03,\n",
       "            1.32266968e-01, -1.03933960e-01, -1.04827002e-01,\n",
       "            1.05915964e-01,  8.45009834e-02, -4.44331691e-02,\n",
       "           -1.04140304e-01, -6.85288906e-02,  1.91689134e-02,\n",
       "           -8.38513598e-02, -8.67596865e-02,  1.71431191e-02,\n",
       "           -3.33884209e-02, -1.24317169e-01,  8.97506773e-02,\n",
       "            4.47105663e-03,  4.77592554e-03,  8.09664950e-02,\n",
       "           -1.25429228e-01,  1.20105259e-01]],\n",
       " \n",
       "         [[-2.89546344e-02,  1.32836401e-01,  2.10745409e-02,\n",
       "            1.00817710e-01,  2.08958071e-02, -6.36015907e-02,\n",
       "           -8.67247805e-02, -8.16221386e-02,  9.80321988e-02,\n",
       "            1.36061847e-01, -1.07919805e-01, -2.42106449e-02,\n",
       "           -1.26643907e-02,  4.97830100e-02,  2.64417590e-03,\n",
       "           -1.28819168e-01,  6.89859688e-02, -3.35794538e-02,\n",
       "           -3.99757586e-02, -1.07396401e-01,  2.07384452e-02,\n",
       "            1.32409185e-01, -2.97909714e-02, -5.77557944e-02,\n",
       "            5.74292094e-02, -1.54435094e-02, -9.23408866e-02,\n",
       "            5.18364161e-02, -3.21587324e-02, -3.53686023e-03,\n",
       "           -3.08383293e-02,  6.84400499e-02],\n",
       "          [-1.28534883e-01,  1.19998209e-01, -1.25284411e-03,\n",
       "           -9.28600654e-02, -9.42665040e-02,  3.09077147e-02,\n",
       "            7.26257190e-02,  8.57349187e-02,  9.07391980e-02,\n",
       "           -1.12206437e-01, -4.82025668e-02, -1.30027160e-01,\n",
       "           -1.34634256e-01,  1.16285056e-01,  8.03133547e-02,\n",
       "            5.27799735e-03, -9.54203755e-02, -1.58454513e-03,\n",
       "           -5.85431904e-02,  7.24263862e-03, -4.91996557e-02,\n",
       "            1.19633280e-01,  6.78587630e-02,  1.14846513e-01,\n",
       "           -5.84409945e-02,  4.55083475e-02, -5.87150417e-02,\n",
       "           -3.51350568e-02, -2.56054997e-02, -1.05829991e-01,\n",
       "           -1.03583552e-01,  1.12551078e-01],\n",
       "          [ 1.34869203e-01,  4.56046574e-02, -5.41168638e-02,\n",
       "            9.78078917e-02, -1.58476438e-02,  6.88344054e-03,\n",
       "            5.58929145e-03,  1.02318585e-01, -4.08046916e-02,\n",
       "            1.14615075e-01,  1.32029772e-01, -1.09741695e-01,\n",
       "            9.61442441e-02,  9.92764682e-02, -1.26187742e-01,\n",
       "            5.91430999e-03, -9.61379930e-02,  1.12349801e-01,\n",
       "           -6.31606430e-02, -3.93734034e-03, -7.32871741e-02,\n",
       "           -3.77721973e-02, -6.89330995e-02, -3.24897305e-03,\n",
       "            6.48852587e-02, -1.19849369e-01, -1.19712502e-01,\n",
       "           -1.87799577e-02,  8.59458968e-02, -6.26509190e-02,\n",
       "           -1.34606570e-01,  4.98441756e-02]],\n",
       " \n",
       "         [[-6.87017068e-02, -1.14526525e-01,  6.55154288e-02,\n",
       "            6.73365742e-02,  6.15056716e-02,  8.16509202e-02,\n",
       "           -1.24504119e-01, -5.50069138e-02, -1.31282866e-01,\n",
       "            2.51879208e-02,  9.44465324e-02,  6.84901252e-02,\n",
       "           -7.93296024e-02,  1.22702129e-01, -1.08987600e-01,\n",
       "           -1.11750670e-01, -6.22400753e-02, -1.92250460e-02,\n",
       "           -5.41290455e-02,  9.96294096e-02, -7.53191635e-02,\n",
       "           -1.71083361e-02,  4.89738025e-02,  7.89397135e-02,\n",
       "            1.02997981e-01,  7.45993480e-02, -6.45279586e-02,\n",
       "           -1.35057177e-02, -5.57643883e-02, -8.23596269e-02,\n",
       "           -1.54986680e-02, -1.35708749e-01],\n",
       "          [-1.29088119e-01, -2.85577048e-02,  5.79367690e-02,\n",
       "            5.95877096e-02,  1.16521217e-01,  1.23697452e-01,\n",
       "            7.26618096e-02, -4.54095639e-02,  4.18334529e-02,\n",
       "           -7.22409412e-02,  1.42957326e-02, -1.07161142e-01,\n",
       "           -4.11905274e-02, -4.60799783e-02,  2.11355351e-02,\n",
       "           -2.17841864e-02,  9.30798352e-02, -1.04114160e-01,\n",
       "           -3.71742435e-02, -4.05280031e-02,  1.17322765e-01,\n",
       "            1.07297286e-01,  8.24487507e-02,  4.15357687e-02,\n",
       "           -9.80089977e-02, -1.89261790e-02,  1.27369121e-01,\n",
       "            5.85013740e-02, -5.15738614e-02, -7.39203766e-02,\n",
       "            1.08774088e-01, -5.19670127e-03],\n",
       "          [ 1.33220866e-01, -2.66299546e-02,  7.69377574e-02,\n",
       "            1.27447650e-01, -7.04576001e-02, -8.98058712e-02,\n",
       "           -6.62964117e-03,  7.37419203e-02,  8.71097371e-02,\n",
       "            1.90608706e-02, -1.96192507e-02, -9.89670828e-02,\n",
       "            4.35960218e-02, -1.25604302e-01,  1.94828864e-02,\n",
       "            6.30831495e-02, -3.66693474e-02,  1.25369549e-01,\n",
       "           -5.90252541e-02, -1.12352140e-01, -1.12316243e-01,\n",
       "           -1.26474246e-01, -8.29846598e-03,  4.65508886e-02,\n",
       "            1.13913387e-01,  3.19609717e-02,  4.77607436e-02,\n",
       "            1.50519665e-02, -8.66185278e-02, -3.98503579e-02,\n",
       "           -1.14069983e-01,  1.35640219e-01]]],\n",
       " \n",
       " \n",
       "        [[[-5.23433089e-02, -1.06174149e-01,  6.31683692e-02,\n",
       "            6.20688573e-02,  9.82575789e-02,  1.54372072e-02,\n",
       "           -7.03507289e-02, -4.94357534e-02, -3.54819819e-02,\n",
       "           -6.77623823e-02, -1.29676551e-01,  3.32531705e-02,\n",
       "           -5.75004183e-02, -1.13255568e-01, -1.36503607e-01,\n",
       "           -2.40854658e-02, -5.39162271e-02, -2.12341058e-03,\n",
       "           -9.66938734e-02, -1.27857000e-01, -1.28452352e-03,\n",
       "           -9.99707282e-02, -3.05687878e-02, -9.41743478e-02,\n",
       "           -9.99358147e-02, -9.31273401e-02,  8.58234614e-02,\n",
       "           -2.24382151e-02,  2.04575248e-02,  1.05976142e-01,\n",
       "            9.96674597e-02, -9.67542902e-02],\n",
       "          [ 5.70984297e-02, -4.34103198e-02, -1.56380720e-02,\n",
       "           -4.27351929e-02, -4.65748683e-02, -1.02866352e-01,\n",
       "           -5.11210412e-02, -4.74208742e-02, -1.90511055e-03,\n",
       "            9.48906243e-02, -4.46024127e-02,  2.28000153e-02,\n",
       "           -1.25908136e-01, -1.05054602e-01, -5.01032732e-03,\n",
       "           -9.70454663e-02,  1.37634560e-01, -1.23413987e-02,\n",
       "            1.20455876e-01, -9.89080295e-02,  1.12295914e-02,\n",
       "           -9.70374569e-02,  7.00115934e-02, -8.72493833e-02,\n",
       "            8.40279236e-02,  1.87093392e-03, -2.26625465e-02,\n",
       "           -1.36187345e-01,  4.59996844e-03,  1.27219558e-01,\n",
       "            5.14150187e-02, -3.90648842e-03],\n",
       "          [-1.02895364e-01,  1.21539846e-01,  6.71676546e-02,\n",
       "           -6.68146908e-02, -4.17721793e-02, -7.06076995e-02,\n",
       "            4.65448089e-02, -4.58211303e-02,  6.78316876e-02,\n",
       "            9.35640037e-02,  1.33993402e-01, -2.71068141e-02,\n",
       "           -6.70429766e-02, -1.04460604e-01,  1.15722097e-01,\n",
       "           -4.20426764e-03, -4.42024395e-02, -1.14320420e-01,\n",
       "           -3.32578309e-02,  4.70291339e-02,  8.20408091e-02,\n",
       "           -1.10454790e-01,  6.61467612e-02,  1.30101398e-01,\n",
       "           -6.09019510e-02,  2.28843670e-02, -5.51535226e-02,\n",
       "           -6.41393811e-02,  8.06514472e-02, -2.84673534e-02,\n",
       "           -1.25877082e-01, -4.92069498e-02]],\n",
       " \n",
       "         [[ 7.40334690e-02,  1.32390901e-01,  1.17854469e-01,\n",
       "            6.68578520e-02, -3.90938483e-02, -9.90503281e-02,\n",
       "            1.33565158e-01,  4.04249132e-02, -1.41575588e-02,\n",
       "           -1.27864152e-01,  1.23453289e-01,  7.61762960e-03,\n",
       "            1.01747617e-01, -3.81812118e-02,  1.24871060e-01,\n",
       "           -2.56608557e-02,  1.18926458e-01, -1.09717205e-01,\n",
       "            1.22702435e-01,  1.31148919e-01,  1.06369585e-01,\n",
       "            1.83632020e-02,  8.58764946e-02, -7.99122602e-02,\n",
       "            1.26539856e-01,  3.82233523e-02, -5.87433614e-02,\n",
       "            1.04590185e-01,  1.34572908e-01,  7.41327554e-02,\n",
       "           -1.09127164e-01,  1.27758995e-01],\n",
       "          [-1.03430353e-01,  3.56139280e-02,  5.95726743e-02,\n",
       "           -7.53517896e-02, -9.65849683e-02, -2.89731268e-02,\n",
       "            1.16672516e-01,  4.35785539e-02,  9.92486700e-02,\n",
       "            2.55950242e-02, -3.47624719e-02,  7.19486400e-02,\n",
       "           -8.98337457e-03,  6.81952164e-02,  7.99095705e-02,\n",
       "            4.76920381e-02, -1.34911552e-01,  5.33165745e-02,\n",
       "           -6.20108768e-02,  7.40888193e-02, -1.10129163e-01,\n",
       "           -4.95819636e-02, -3.03669646e-03,  4.68372144e-02,\n",
       "           -4.00892198e-02, -3.41622941e-02, -1.08386762e-01,\n",
       "           -6.78005517e-02, -1.35392055e-01, -2.20373981e-02,\n",
       "            8.02682340e-02,  1.11368656e-01],\n",
       "          [-1.30919874e-01,  9.92733892e-03, -4.35321182e-02,\n",
       "            6.62321150e-02, -6.12345971e-02, -3.11998613e-02,\n",
       "            1.01547919e-01, -5.80308773e-02,  5.38816676e-02,\n",
       "           -8.88828933e-02,  1.01283481e-02,  3.43393125e-02,\n",
       "            1.02395542e-01,  1.15571201e-01, -3.69282812e-02,\n",
       "            7.76773468e-02,  6.48741946e-02, -2.04307400e-02,\n",
       "           -1.75900180e-02,  3.76905128e-02, -6.82658982e-04,\n",
       "           -1.00687779e-01, -6.19728491e-02,  1.35338530e-01,\n",
       "           -9.55063384e-03, -4.92121726e-02, -3.36106829e-02,\n",
       "            1.23084724e-01, -1.26288414e-01,  1.37495041e-01,\n",
       "            5.13337478e-02,  1.01237975e-01]],\n",
       " \n",
       "         [[ 2.20309272e-02, -1.36699677e-01,  7.85736367e-02,\n",
       "            1.87365431e-02,  1.24257758e-01,  1.24405511e-01,\n",
       "           -6.91292807e-02, -1.99749484e-03, -8.05839822e-02,\n",
       "           -7.91285932e-02,  4.94493283e-02, -6.65324181e-03,\n",
       "            1.25281572e-01, -2.51551941e-02,  5.58187068e-02,\n",
       "            1.21157998e-02,  7.42506310e-02,  1.30174085e-01,\n",
       "            2.23203022e-02,  8.79537761e-02,  2.97954604e-02,\n",
       "           -1.10089771e-01,  5.27153797e-02, -6.07574172e-02,\n",
       "           -9.10315141e-02, -1.10316560e-01,  9.90565121e-02,\n",
       "           -1.12480819e-02, -8.40899423e-02,  5.89886717e-02,\n",
       "            6.12697639e-02, -1.39964279e-02],\n",
       "          [-1.00377956e-02,  2.29606144e-02,  1.32358044e-01,\n",
       "            1.09315738e-01, -1.14073418e-01, -9.18862298e-02,\n",
       "           -1.80853214e-02,  4.80976216e-02, -1.28644958e-01,\n",
       "           -1.17727436e-01, -6.19669852e-04, -2.09506061e-02,\n",
       "            7.28933215e-02,  6.58540130e-02,  1.18460819e-01,\n",
       "            6.00672653e-03,  4.53362726e-02, -9.57287177e-02,\n",
       "            9.32938308e-02, -6.71707373e-03,  4.07052450e-02,\n",
       "            4.42184508e-02,  3.75825427e-02, -4.97497842e-02,\n",
       "            6.10147081e-02,  2.18518060e-02,  7.98198730e-02,\n",
       "           -6.94758445e-02,  1.37845054e-01,  3.92241627e-02,\n",
       "            9.88256186e-02,  5.09575754e-02],\n",
       "          [ 3.14381458e-02,  4.73557636e-02, -2.04080082e-02,\n",
       "           -1.34690786e-02,  3.87332663e-02, -2.07773061e-03,\n",
       "           -4.37646024e-02, -1.25087485e-01,  9.48690921e-02,\n",
       "            9.24203321e-02, -5.11335209e-02, -1.30562022e-01,\n",
       "            1.24894455e-01, -6.63732812e-02, -5.10929748e-02,\n",
       "            1.27470627e-01,  9.75961909e-02, -1.51352854e-02,\n",
       "           -1.03357308e-01,  6.89160451e-02,  3.00801005e-02,\n",
       "            6.55759126e-02,  5.47117069e-02,  1.29960537e-01,\n",
       "            1.40475091e-02,  8.17568079e-02,  1.77348673e-03,\n",
       "            1.16131999e-01,  9.15175751e-02, -1.35486171e-01,\n",
       "            3.68546732e-02, -1.03266180e-01]]]], dtype=float32),\n",
       " array([-2.31717222e-05,  3.92679158e-06, -1.79774670e-05, -1.34299235e-05,\n",
       "         6.52747394e-06,  5.84800455e-06, -1.70011263e-05,  1.50742017e-06,\n",
       "        -4.26886299e-06,  8.97178961e-06, -2.51321671e-05,  3.70026464e-06,\n",
       "        -2.07246339e-05, -1.45559097e-05,  4.41858765e-06, -1.08564318e-05,\n",
       "        -2.39645306e-06, -5.58967997e-07, -6.89388571e-06, -3.38563950e-05,\n",
       "        -1.77480570e-06,  4.93353809e-06, -7.87979116e-06, -9.82040319e-07,\n",
       "         1.27396124e-05, -8.64457706e-06, -1.31394436e-05,  9.09380924e-06,\n",
       "        -6.83141207e-06, -1.47467995e-06, -1.56298229e-05,  8.67075414e-06],\n",
       "       dtype=float32),\n",
       " array([[[[ 0.03323144, -0.02741035,  0.05667138, ...,  0.04960456,\n",
       "           -0.0379209 , -0.00714379],\n",
       "          [-0.02602603, -0.02357692,  0.00212489, ...,  0.00434162,\n",
       "           -0.00207666,  0.01920254],\n",
       "          [ 0.07949517,  0.07435761,  0.01390175, ...,  0.01364259,\n",
       "           -0.03065993, -0.04073066],\n",
       "          ...,\n",
       "          [-0.04615991,  0.02361685, -0.02755006, ..., -0.07448043,\n",
       "           -0.00720861, -0.07303666],\n",
       "          [ 0.03690315,  0.05357827, -0.05908698, ...,  0.03484425,\n",
       "           -0.08242815, -0.00877574],\n",
       "          [-0.06447707, -0.07921837, -0.03667939, ..., -0.05035727,\n",
       "           -0.06470149,  0.03866165]],\n",
       " \n",
       "         [[ 0.07444753, -0.08162751, -0.0686233 , ...,  0.02075136,\n",
       "            0.0706825 ,  0.01127648],\n",
       "          [-0.04860627,  0.03091875, -0.0555168 , ...,  0.03788255,\n",
       "           -0.04964493, -0.00332846],\n",
       "          [-0.04421084, -0.06823004,  0.03589286, ..., -0.00596482,\n",
       "           -0.06795994, -0.06886983],\n",
       "          ...,\n",
       "          [-0.08155881, -0.03393228, -0.03448759, ...,  0.03821412,\n",
       "            0.02259965,  0.05906565],\n",
       "          [-0.0779913 , -0.03169019, -0.04989054, ..., -0.03907842,\n",
       "           -0.06399783,  0.04698379],\n",
       "          [ 0.04698423,  0.02977583, -0.01243326, ..., -0.04741949,\n",
       "            0.04278882, -0.06366169]],\n",
       " \n",
       "         [[ 0.00351576, -0.05825809, -0.07031112, ...,  0.04066326,\n",
       "            0.0620418 ,  0.01899527],\n",
       "          [ 0.07537692,  0.02120029, -0.05411367, ..., -0.02399264,\n",
       "           -0.07152732,  0.00193751],\n",
       "          [-0.00662045,  0.05934894, -0.07072251, ...,  0.07717641,\n",
       "            0.06044315, -0.02944394],\n",
       "          ...,\n",
       "          [-0.05693873,  0.04205678, -0.07284515, ...,  0.04891094,\n",
       "            0.06148617,  0.06247215],\n",
       "          [ 0.04858731, -0.02864446,  0.00915222, ..., -0.06380372,\n",
       "           -0.07889034, -0.07875563],\n",
       "          [ 0.01544797,  0.08218252, -0.02096731, ..., -0.0398636 ,\n",
       "            0.05298408,  0.05773172]]],\n",
       " \n",
       " \n",
       "        [[[-0.01463979,  0.04801479, -0.06112991, ..., -0.03449832,\n",
       "            0.02638069, -0.04403214],\n",
       "          [ 0.08207759, -0.04544678,  0.05877423, ...,  0.05034165,\n",
       "            0.07626496,  0.0405148 ],\n",
       "          [ 0.05341471, -0.03765041,  0.0166149 , ..., -0.00149728,\n",
       "            0.00116291, -0.04671099],\n",
       "          ...,\n",
       "          [ 0.02145476, -0.07520945, -0.05571334, ...,  0.00275892,\n",
       "           -0.06074281,  0.00192824],\n",
       "          [-0.05122894, -0.05876137, -0.0244435 , ...,  0.02687219,\n",
       "            0.05353374, -0.04334925],\n",
       "          [ 0.06169311,  0.01862594, -0.03625431, ..., -0.06746407,\n",
       "            0.05679727,  0.02571128]],\n",
       " \n",
       "         [[-0.00027673,  0.06387997, -0.07748705, ..., -0.04640161,\n",
       "           -0.0159052 ,  0.06440192],\n",
       "          [ 0.02652492,  0.07606064,  0.04411967, ...,  0.00628988,\n",
       "           -0.03009976,  0.00331573],\n",
       "          [ 0.03641231, -0.02845757,  0.03320485, ..., -0.04126538,\n",
       "           -0.01131465, -0.05475487],\n",
       "          ...,\n",
       "          [ 0.05527854,  0.05723589,  0.02864896, ..., -0.00282866,\n",
       "            0.02183999, -0.03423885],\n",
       "          [-0.04653193, -0.07548938, -0.03576797, ..., -0.07798517,\n",
       "           -0.04998402, -0.01198434],\n",
       "          [ 0.03102975,  0.02742646,  0.0644329 , ...,  0.08108888,\n",
       "           -0.04123756,  0.07125203]],\n",
       " \n",
       "         [[ 0.04099518, -0.06430032,  0.01203077, ..., -0.04997996,\n",
       "           -0.06721181,  0.00703745],\n",
       "          [-0.02261355,  0.04088311, -0.05488493, ..., -0.04924765,\n",
       "            0.04445991, -0.00555098],\n",
       "          [-0.06075466, -0.02909645, -0.07737217, ...,  0.02544867,\n",
       "           -0.04975463,  0.06772584],\n",
       "          ...,\n",
       "          [-0.04989702, -0.0328693 ,  0.03836352, ..., -0.02359211,\n",
       "           -0.03166245,  0.03438941],\n",
       "          [ 0.01075525, -0.05643352, -0.06307607, ...,  0.06879596,\n",
       "            0.07853823, -0.06042837],\n",
       "          [-0.02161575, -0.03784008, -0.01131112, ..., -0.010099  ,\n",
       "            0.03181129,  0.05064796]]],\n",
       " \n",
       " \n",
       "        [[[-0.07955981, -0.07783588,  0.06020974, ...,  0.04680771,\n",
       "            0.02720245, -0.03561648],\n",
       "          [-0.01375671,  0.08320527,  0.04693282, ..., -0.03566512,\n",
       "            0.06925122,  0.04656642],\n",
       "          [ 0.07464381, -0.06837994, -0.03117519, ..., -0.07235727,\n",
       "           -0.01073299, -0.03354641],\n",
       "          ...,\n",
       "          [ 0.03749325,  0.04233185,  0.02397193, ...,  0.07360379,\n",
       "            0.0114333 ,  0.03909107],\n",
       "          [-0.01508824, -0.04728677, -0.04369538, ..., -0.05345947,\n",
       "            0.03823532,  0.06200681],\n",
       "          [-0.00390801, -0.06649221,  0.05730961, ...,  0.02198312,\n",
       "            0.00997891, -0.08108873]],\n",
       " \n",
       "         [[-0.02604939, -0.07186047, -0.02481799, ...,  0.05041522,\n",
       "            0.01764872, -0.06741542],\n",
       "          [-0.02310144,  0.00694174, -0.04010876, ..., -0.01660699,\n",
       "           -0.02544848, -0.05588728],\n",
       "          [ 0.02146573, -0.05339323, -0.0501962 , ..., -0.03248837,\n",
       "            0.08176789, -0.01247566],\n",
       "          ...,\n",
       "          [ 0.03928214,  0.06684982,  0.05521048, ...,  0.07221884,\n",
       "            0.07188346, -0.05841341],\n",
       "          [ 0.07790968, -0.0695565 , -0.00478321, ..., -0.06237265,\n",
       "            0.02172295, -0.00262386],\n",
       "          [-0.07393037, -0.02914488,  0.06296118, ...,  0.03936537,\n",
       "           -0.0398821 , -0.01363613]],\n",
       " \n",
       "         [[-0.07886261,  0.01227967, -0.02647788, ..., -0.04870241,\n",
       "           -0.04692292, -0.06104355],\n",
       "          [-0.04580276, -0.06755576,  0.06929048, ...,  0.05929451,\n",
       "           -0.04834908, -0.04319255],\n",
       "          [-0.05481231, -0.06130016,  0.0535497 , ...,  0.02205771,\n",
       "           -0.03601106, -0.02107219],\n",
       "          ...,\n",
       "          [-0.01614555,  0.03704182,  0.00323023, ...,  0.05828812,\n",
       "           -0.04639899,  0.02603939],\n",
       "          [ 0.02864432,  0.0724781 , -0.00046258, ...,  0.05852592,\n",
       "           -0.02449142,  0.05874575],\n",
       "          [ 0.07890048, -0.03788257, -0.02004196, ..., -0.0037597 ,\n",
       "           -0.05844206, -0.02888108]]]], dtype=float32),\n",
       " array([-1.13306869e-05, -1.26908981e-05,  6.05450487e-06, -1.07072856e-06,\n",
       "        -1.23732498e-05,  3.05070535e-05, -2.12402983e-06, -1.02653776e-05,\n",
       "         3.30361654e-05,  2.08259335e-05,  6.75098227e-06,  1.52425364e-05,\n",
       "        -8.36242270e-06,  7.70548195e-06,  1.16430811e-05, -1.81867417e-05,\n",
       "         9.54995267e-06,  1.11308163e-05,  3.15979378e-05, -3.18696038e-08,\n",
       "         1.84455148e-05, -1.69656360e-05,  5.17213593e-05, -1.37169845e-05,\n",
       "        -2.13329185e-05, -1.28463284e-06, -2.53694889e-05,  4.02360092e-06,\n",
       "         1.74420961e-07,  3.80070531e-07, -6.16008401e-06, -2.35903417e-06,\n",
       "        -2.97381303e-06,  1.54082700e-05,  2.70954515e-05,  1.38127380e-05,\n",
       "        -1.21156854e-05, -5.14646672e-08, -1.52634057e-05,  1.03839493e-05,\n",
       "        -6.64903610e-07,  8.55522376e-06,  3.51309209e-05,  8.81372034e-06,\n",
       "         1.90564188e-05, -7.13650161e-06,  1.24964026e-05, -1.34869833e-05,\n",
       "        -1.04455439e-05,  3.59613523e-07,  6.21132858e-06,  3.59213627e-05,\n",
       "         1.96852761e-05,  5.57425028e-06,  1.41082819e-05,  1.80190964e-05,\n",
       "        -2.16996341e-05,  8.64464891e-06,  2.60468460e-06, -5.23869943e-08,\n",
       "        -6.54663245e-06,  1.59505998e-05, -8.61334502e-06,  2.49183522e-05],\n",
       "       dtype=float32),\n",
       " array([[ 8.89605784e-04,  3.79830482e-04, -1.65884988e-03, ...,\n",
       "         -1.27313033e-04, -1.66437367e-03,  2.01420029e-04],\n",
       "        [-1.23870661e-04, -1.70755386e-03,  2.44564679e-03, ...,\n",
       "         -6.88816886e-04, -5.74250371e-05, -3.46889210e-05],\n",
       "        [-1.21601124e-03,  4.01405152e-04, -1.89282466e-04, ...,\n",
       "          1.05359731e-03,  2.20489479e-03, -2.61543784e-04],\n",
       "        ...,\n",
       "        [-4.26585932e-04,  1.13321689e-03, -1.71994115e-03, ...,\n",
       "         -2.45251856e-03, -1.45476405e-03, -2.62704212e-04],\n",
       "        [-1.26249657e-03, -1.07542255e-05, -3.47795634e-04, ...,\n",
       "         -1.90246338e-03, -2.47017201e-03,  3.55012686e-04],\n",
       "        [-6.16732519e-04,  1.99572020e-03, -1.16960716e-03, ...,\n",
       "          2.35117855e-03,  1.03359949e-03,  1.92223684e-04]], dtype=float32),\n",
       " array([-8.25324332e-06, -2.09869404e-06, -6.33831314e-06, -1.28816237e-05,\n",
       "        -9.98984433e-06, -1.08349250e-05, -7.06590345e-06,  1.10449928e-05,\n",
       "        -8.66727714e-06, -9.16242152e-06, -2.18647119e-06, -6.01277679e-06,\n",
       "        -8.94949062e-06, -9.58358942e-06, -9.35430489e-06, -4.48775381e-06,\n",
       "        -9.28809550e-06, -6.98804160e-06, -3.81003088e-06, -9.95391019e-06,\n",
       "        -3.13679698e-06, -1.22068459e-05, -9.45990087e-06, -8.39460881e-06,\n",
       "        -1.20838677e-05, -1.06552179e-05, -1.39458893e-06, -2.26237171e-06,\n",
       "        -6.43054091e-06, -8.00589441e-06,  4.34215644e-06, -3.21662401e-06,\n",
       "        -3.55163547e-06, -9.88822285e-06, -6.58509498e-06, -9.55157066e-06,\n",
       "        -5.47946638e-06, -9.16374665e-06, -6.51621031e-06, -1.06887519e-05,\n",
       "        -1.45640797e-05, -2.01500188e-06, -9.07308004e-06, -2.92920549e-06,\n",
       "        -4.96716621e-06, -7.65785808e-06, -8.11367590e-06, -1.16616293e-05,\n",
       "        -1.18459966e-05,  0.00000000e+00, -2.73054548e-06, -1.00078269e-05,\n",
       "        -3.54219628e-06, -4.83676331e-06, -1.30723547e-05, -9.50714639e-06,\n",
       "        -6.68270104e-06, -1.45156764e-05, -1.09560069e-05, -8.25268035e-06,\n",
       "        -6.76244872e-06, -1.20016775e-05, -1.01662727e-05, -6.29902615e-06,\n",
       "        -1.04742630e-05, -1.00406232e-05, -2.30026058e-06, -8.49689604e-06,\n",
       "        -3.34849119e-06, -3.92360062e-06,  1.38163614e-07, -5.27090833e-06,\n",
       "         1.04675087e-06, -6.36195239e-07, -1.72689204e-06, -4.08673759e-06,\n",
       "        -6.54859741e-06, -6.70627378e-06, -9.38839730e-06, -9.26611574e-06,\n",
       "        -3.52659754e-06,  5.73272973e-06, -9.02331612e-06, -1.24662465e-05,\n",
       "        -9.69836765e-06, -1.12072075e-05, -6.73730665e-06, -1.29616683e-05,\n",
       "        -8.37923017e-06, -8.92481148e-06, -1.15314633e-05, -1.69047109e-06,\n",
       "        -4.22372750e-06, -5.93543473e-06, -5.21385618e-06, -9.20600178e-06,\n",
       "        -7.08614152e-06, -1.21892626e-05, -6.21556592e-06, -1.15224038e-05,\n",
       "        -7.18690899e-06, -4.52648328e-06, -4.86418003e-06, -4.31712306e-06,\n",
       "        -7.80697155e-06, -8.38860706e-06, -1.12628823e-05, -9.99479380e-06,\n",
       "        -5.62260266e-06, -6.76559466e-06, -4.26006000e-06, -1.43847574e-05,\n",
       "        -7.83936684e-06, -4.66617075e-06, -1.03180309e-05, -1.29051296e-05,\n",
       "        -2.13614749e-06, -1.11836762e-05, -5.41025611e-06, -1.23805648e-06,\n",
       "        -1.19700608e-05, -7.52111100e-06, -2.90527555e-06, -4.09556924e-06,\n",
       "        -1.39565282e-05, -3.82303460e-06, -4.74008993e-06, -6.62967750e-06],\n",
       "       dtype=float32),\n",
       " array([[-0.17098148, -0.10234537, -0.05279944, ...,  0.17022514,\n",
       "         -0.09843889, -0.14694612],\n",
       "        [ 0.00542931, -0.05722535,  0.17940906, ..., -0.04601683,\n",
       "          0.11651345, -0.00359409],\n",
       "        [-0.16825812, -0.06466237, -0.15650177, ..., -0.17639095,\n",
       "          0.08419674, -0.03856425],\n",
       "        ...,\n",
       "        [ 0.1665337 ,  0.01684014,  0.15536599, ..., -0.14066838,\n",
       "          0.04947442,  0.03068122],\n",
       "        [-0.08307778,  0.05388701, -0.06803653, ..., -0.04915935,\n",
       "         -0.0793158 ,  0.09917675],\n",
       "        [ 0.18388255, -0.1130273 ,  0.14492925, ..., -0.15438145,\n",
       "         -0.05766398, -0.19017512]], dtype=float32),\n",
       " array([-1.5021220e-04, -8.6718581e-05,  2.4583592e-04,  1.4125049e-04,\n",
       "        -7.3556421e-06,  1.8204188e-04,  1.4341396e-04, -2.9696076e-04,\n",
       "        -2.2266177e-04, -2.4783803e-04, -5.1544357e-05,  4.8089700e-05,\n",
       "         1.6854482e-04, -5.9440990e-05, -1.0777836e-04, -1.7663022e-04,\n",
       "        -6.9427733e-05, -9.4918840e-05, -1.2763466e-04,  2.1156551e-05,\n",
       "        -2.1202771e-04,  1.4223809e-04, -7.6040385e-05, -1.3182365e-04,\n",
       "         1.5690210e-04], dtype=float32)]"
      ]
     },
     "execution_count": 34,
     "metadata": {},
     "output_type": "execute_result"
    }
   ],
   "source": [
    "M0.get_weights()"
   ]
  },
  {
   "cell_type": "code",
   "execution_count": 38,
   "id": "f1629a14",
   "metadata": {},
   "outputs": [
    {
     "data": {
      "text/plain": [
       "dict_keys(['loss', 'accuracy'])"
      ]
     },
     "execution_count": 38,
     "metadata": {},
     "output_type": "execute_result"
    }
   ],
   "source": [
    "M0.history.history.keys()"
   ]
  },
  {
   "cell_type": "code",
   "execution_count": 39,
   "id": "f440e854",
   "metadata": {},
   "outputs": [
    {
     "data": {
      "text/plain": [
       "Text(0.5, 1.0, 'Loss Curves')"
      ]
     },
     "execution_count": 39,
     "metadata": {},
     "output_type": "execute_result"
    },
    {
     "data": {
      "image/png": "[encoded data removed]",
      "text/plain": [
       "<Figure size 576x432 with 1 Axes>"
      ]
     },
     "metadata": {
      "needs_background": "light"
     },
     "output_type": "display_data"
    }
   ],
   "source": [
    "#Plot the Loss Curves\n",
    "plt.figure(figsize=[8,6])\n",
    "plt.plot(M0.history.history['loss'],'r',linewidth=3.0)\n",
    "plt.plot(M0.history.history['accuracy'],'r',linewidth=3.0) \n",
    "plt.legend(['Training loss', 'Training Accuracy'],fontsize=18)\n",
    "plt.xlabel('Epochs ',fontsize=16)\n",
    "plt.ylabel('Loss',fontsize=16)\n",
    "plt.title('Loss Curves',fontsize=16)"
   ]
  },
  {
   "cell_type": "code",
   "execution_count": 40,
   "id": "1e67cc18",
   "metadata": {},
   "outputs": [
    {
     "name": "stdout",
     "output_type": "stream",
     "text": [
      "55/55 [==============================] - 20s 363ms/step\n"
     ]
    }
   ],
   "source": [
    "test_pred = M0.predict(test_img)\n",
    "test_pred=np.argmax(test_pred,axis=1)"
   ]
  },
  {
   "cell_type": "code",
   "execution_count": 41,
   "id": "d147662c",
   "metadata": {},
   "outputs": [
    {
     "data": {
      "text/plain": [
       "1732"
      ]
     },
     "execution_count": 41,
     "metadata": {},
     "output_type": "execute_result"
    }
   ],
   "source": [
    "len(test_pred)"
   ]
  },
  {
   "cell_type": "code",
   "execution_count": 42,
   "id": "0aa2789b",
   "metadata": {},
   "outputs": [],
   "source": [
    "pred = pd.DataFrame(test_pred,columns=['pred_value'])"
   ]
  },
  {
   "cell_type": "code",
   "execution_count": 43,
   "id": "67a40c7d",
   "metadata": {},
   "outputs": [
    {
     "data": {
      "text/html": [
       "<div>\n",
       "<style scoped>\n",
       "    .dataframe tbody tr th:only-of-type {\n",
       "        vertical-align: middle;\n",
       "    }\n",
       "\n",
       "    .dataframe tbody tr th {\n",
       "        vertical-align: top;\n",
       "    }\n",
       "\n",
       "    .dataframe thead th {\n",
       "        text-align: right;\n",
       "    }\n",
       "</style>\n",
       "<table border=\"1\" class=\"dataframe\">\n",
       "  <thead>\n",
       "    <tr style=\"text-align: right;\">\n",
       "      <th></th>\n",
       "      <th>pred_value</th>\n",
       "    </tr>\n",
       "  </thead>\n",
       "  <tbody>\n",
       "    <tr>\n",
       "      <th>0</th>\n",
       "      <td>5</td>\n",
       "    </tr>\n",
       "    <tr>\n",
       "      <th>1</th>\n",
       "      <td>2</td>\n",
       "    </tr>\n",
       "    <tr>\n",
       "      <th>2</th>\n",
       "      <td>10</td>\n",
       "    </tr>\n",
       "    <tr>\n",
       "      <th>3</th>\n",
       "      <td>7</td>\n",
       "    </tr>\n",
       "    <tr>\n",
       "      <th>4</th>\n",
       "      <td>19</td>\n",
       "    </tr>\n",
       "    <tr>\n",
       "      <th>...</th>\n",
       "      <td>...</td>\n",
       "    </tr>\n",
       "    <tr>\n",
       "      <th>1727</th>\n",
       "      <td>6</td>\n",
       "    </tr>\n",
       "    <tr>\n",
       "      <th>1728</th>\n",
       "      <td>2</td>\n",
       "    </tr>\n",
       "    <tr>\n",
       "      <th>1729</th>\n",
       "      <td>2</td>\n",
       "    </tr>\n",
       "    <tr>\n",
       "      <th>1730</th>\n",
       "      <td>2</td>\n",
       "    </tr>\n",
       "    <tr>\n",
       "      <th>1731</th>\n",
       "      <td>2</td>\n",
       "    </tr>\n",
       "  </tbody>\n",
       "</table>\n",
       "<p>1732 rows × 1 columns</p>\n",
       "</div>"
      ],
      "text/plain": [
       "      pred_value\n",
       "0              5\n",
       "1              2\n",
       "2             10\n",
       "3              7\n",
       "4             19\n",
       "...          ...\n",
       "1727           6\n",
       "1728           2\n",
       "1729           2\n",
       "1730           2\n",
       "1731           2\n",
       "\n",
       "[1732 rows x 1 columns]"
      ]
     },
     "execution_count": 43,
     "metadata": {},
     "output_type": "execute_result"
    }
   ],
   "source": [
    "pred"
   ]
  },
  {
   "cell_type": "code",
   "execution_count": 44,
   "id": "63f3bd73",
   "metadata": {},
   "outputs": [],
   "source": [
    "cls = {0 : 'rice',\n",
    "        1 : 'candy',\n",
    "        2 : 'jam',\n",
    "        3 : 'coffee',\n",
    "        4 : 'vinegar',\n",
    "        5 : 'chocolate',\n",
    "        6 : 'sugar',\n",
    "        7 : 'water',\n",
    "        8 : 'juice',\n",
    "        9 : 'milk',\n",
    "        10 : 'soda',\n",
    "        11 : 'nuts',\n",
    "        12 : 'chips',\n",
    "        13 : 'spices',\n",
    "        14 : 'cereal',\n",
    "        15 : 'beans',\n",
    "        16 : 'cake',\n",
    "        17 : 'honey',\n",
    "        18 : 'flour',\n",
    "        19 : 'pasta',\n",
    "        20 : 'tomatosauce',\n",
    "        21 : 'tea',\n",
    "        22 : 'corn',\n",
    "        23 : 'oil',\n",
    "        24 : 'fish'}"
   ]
  },
  {
   "cell_type": "code",
   "execution_count": 45,
   "id": "4f035470",
   "metadata": {},
   "outputs": [],
   "source": [
    "pred['class'] = pred.pred_value.apply(lambda x : cls.get(x))"
   ]
  },
  {
   "cell_type": "code",
   "execution_count": 46,
   "id": "1cd7626a",
   "metadata": {},
   "outputs": [],
   "source": [
    "output = pd.read_csv(path+'Dataset Labels/test.csv')"
   ]
  },
  {
   "cell_type": "code",
   "execution_count": 47,
   "id": "1723abe7",
   "metadata": {},
   "outputs": [
    {
     "data": {
      "text/html": [
       "<div>\n",
       "<style scoped>\n",
       "    .dataframe tbody tr th:only-of-type {\n",
       "        vertical-align: middle;\n",
       "    }\n",
       "\n",
       "    .dataframe tbody tr th {\n",
       "        vertical-align: top;\n",
       "    }\n",
       "\n",
       "    .dataframe thead th {\n",
       "        text-align: right;\n",
       "    }\n",
       "</style>\n",
       "<table border=\"1\" class=\"dataframe\">\n",
       "  <thead>\n",
       "    <tr style=\"text-align: right;\">\n",
       "      <th></th>\n",
       "      <th>pred_value</th>\n",
       "      <th>class</th>\n",
       "    </tr>\n",
       "  </thead>\n",
       "  <tbody>\n",
       "    <tr>\n",
       "      <th>0</th>\n",
       "      <td>5</td>\n",
       "      <td>chocolate</td>\n",
       "    </tr>\n",
       "    <tr>\n",
       "      <th>1</th>\n",
       "      <td>2</td>\n",
       "      <td>jam</td>\n",
       "    </tr>\n",
       "    <tr>\n",
       "      <th>2</th>\n",
       "      <td>10</td>\n",
       "      <td>soda</td>\n",
       "    </tr>\n",
       "    <tr>\n",
       "      <th>3</th>\n",
       "      <td>7</td>\n",
       "      <td>water</td>\n",
       "    </tr>\n",
       "    <tr>\n",
       "      <th>4</th>\n",
       "      <td>19</td>\n",
       "      <td>pasta</td>\n",
       "    </tr>\n",
       "    <tr>\n",
       "      <th>...</th>\n",
       "      <td>...</td>\n",
       "      <td>...</td>\n",
       "    </tr>\n",
       "    <tr>\n",
       "      <th>1727</th>\n",
       "      <td>6</td>\n",
       "      <td>sugar</td>\n",
       "    </tr>\n",
       "    <tr>\n",
       "      <th>1728</th>\n",
       "      <td>2</td>\n",
       "      <td>jam</td>\n",
       "    </tr>\n",
       "    <tr>\n",
       "      <th>1729</th>\n",
       "      <td>2</td>\n",
       "      <td>jam</td>\n",
       "    </tr>\n",
       "    <tr>\n",
       "      <th>1730</th>\n",
       "      <td>2</td>\n",
       "      <td>jam</td>\n",
       "    </tr>\n",
       "    <tr>\n",
       "      <th>1731</th>\n",
       "      <td>2</td>\n",
       "      <td>jam</td>\n",
       "    </tr>\n",
       "  </tbody>\n",
       "</table>\n",
       "<p>1732 rows × 2 columns</p>\n",
       "</div>"
      ],
      "text/plain": [
       "      pred_value      class\n",
       "0              5  chocolate\n",
       "1              2        jam\n",
       "2             10       soda\n",
       "3              7      water\n",
       "4             19      pasta\n",
       "...          ...        ...\n",
       "1727           6      sugar\n",
       "1728           2        jam\n",
       "1729           2        jam\n",
       "1730           2        jam\n",
       "1731           2        jam\n",
       "\n",
       "[1732 rows x 2 columns]"
      ]
     },
     "execution_count": 47,
     "metadata": {},
     "output_type": "execute_result"
    }
   ],
   "source": [
    "pred"
   ]
  },
  {
   "cell_type": "code",
   "execution_count": 48,
   "id": "bb4736e3",
   "metadata": {},
   "outputs": [],
   "source": [
    "output_M0 = pd.concat([output,pred['class']],axis=1)"
   ]
  },
  {
   "cell_type": "markdown",
   "id": "596e9a6a",
   "metadata": {},
   "source": [
    "**--Transfer Learning**"
   ]
  },
  {
   "cell_type": "code",
   "execution_count": 52,
   "id": "cfac1c50",
   "metadata": {},
   "outputs": [
    {
     "name": "stdout",
     "output_type": "stream",
     "text": [
      "Model: \"vgg16\"\n",
      "_________________________________________________________________\n",
      " Layer (type)                Output Shape              Param #   \n",
      "=================================================================\n",
      " input_2 (InputLayer)        [(None, 224, 224, 3)]     0         \n",
      "                                                                 \n",
      " block1_conv1 (Conv2D)       (None, 224, 224, 64)      1792      \n",
      "                                                                 \n",
      " block1_conv2 (Conv2D)       (None, 224, 224, 64)      36928     \n",
      "                                                                 \n",
      " block1_pool (MaxPooling2D)  (None, 112, 112, 64)      0         \n",
      "                                                                 \n",
      " block2_conv1 (Conv2D)       (None, 112, 112, 128)     73856     \n",
      "                                                                 \n",
      " block2_conv2 (Conv2D)       (None, 112, 112, 128)     147584    \n",
      "                                                                 \n",
      " block2_pool (MaxPooling2D)  (None, 56, 56, 128)       0         \n",
      "                                                                 \n",
      " block3_conv1 (Conv2D)       (None, 56, 56, 256)       295168    \n",
      "                                                                 \n",
      " block3_conv2 (Conv2D)       (None, 56, 56, 256)       590080    \n",
      "                                                                 \n",
      " block3_conv3 (Conv2D)       (None, 56, 56, 256)       590080    \n",
      "                                                                 \n",
      " block3_pool (MaxPooling2D)  (None, 28, 28, 256)       0         \n",
      "                                                                 \n",
      " block4_conv1 (Conv2D)       (None, 28, 28, 512)       1180160   \n",
      "                                                                 \n",
      " block4_conv2 (Conv2D)       (None, 28, 28, 512)       2359808   \n",
      "                                                                 \n",
      " block4_conv3 (Conv2D)       (None, 28, 28, 512)       2359808   \n",
      "                                                                 \n",
      " block4_pool (MaxPooling2D)  (None, 14, 14, 512)       0         \n",
      "                                                                 \n",
      " block5_conv1 (Conv2D)       (None, 14, 14, 512)       2359808   \n",
      "                                                                 \n",
      " block5_conv2 (Conv2D)       (None, 14, 14, 512)       2359808   \n",
      "                                                                 \n",
      " block5_conv3 (Conv2D)       (None, 14, 14, 512)       2359808   \n",
      "                                                                 \n",
      " block5_pool (MaxPooling2D)  (None, 7, 7, 512)         0         \n",
      "                                                                 \n",
      " flatten (Flatten)           (None, 25088)             0         \n",
      "                                                                 \n",
      " fc1 (Dense)                 (None, 4096)              102764544 \n",
      "                                                                 \n",
      " fc2 (Dense)                 (None, 4096)              16781312  \n",
      "                                                                 \n",
      " predictions (Dense)         (None, 1000)              4097000   \n",
      "                                                                 \n",
      "=================================================================\n",
      "Total params: 138,357,544\n",
      "Trainable params: 138,357,544\n",
      "Non-trainable params: 0\n",
      "_________________________________________________________________\n"
     ]
    }
   ],
   "source": [
    "M_vgg = keras.applications.vgg16.VGG16()\n",
    "M_vgg.summary()"
   ]
  },
  {
   "cell_type": "code",
   "execution_count": 53,
   "id": "f2801551",
   "metadata": {},
   "outputs": [
    {
     "data": {
      "text/plain": [
       "[<keras.engine.input_layer.InputLayer at 0x1ed9a894790>,\n",
       " <keras.layers.convolutional.conv2d.Conv2D at 0x1ed9a88dbe0>,\n",
       " <keras.layers.convolutional.conv2d.Conv2D at 0x1ed9a6fddc0>,\n",
       " <keras.layers.pooling.max_pooling2d.MaxPooling2D at 0x1ed9a88d3a0>,\n",
       " <keras.layers.convolutional.conv2d.Conv2D at 0x1ed9a5164f0>,\n",
       " <keras.layers.convolutional.conv2d.Conv2D at 0x1ed9a4f9d90>,\n",
       " <keras.layers.pooling.max_pooling2d.MaxPooling2D at 0x1ed9a8b1100>,\n",
       " <keras.layers.convolutional.conv2d.Conv2D at 0x1ed9a88d1c0>,\n",
       " <keras.layers.convolutional.conv2d.Conv2D at 0x1ed9a7509a0>,\n",
       " <keras.layers.convolutional.conv2d.Conv2D at 0x1ed9a88b700>,\n",
       " <keras.layers.pooling.max_pooling2d.MaxPooling2D at 0x1ed9a752d00>,\n",
       " <keras.layers.convolutional.conv2d.Conv2D at 0x1ed9a882370>,\n",
       " <keras.layers.convolutional.conv2d.Conv2D at 0x1ed9a88bcd0>,\n",
       " <keras.layers.convolutional.conv2d.Conv2D at 0x1ed9a76eb80>,\n",
       " <keras.layers.pooling.max_pooling2d.MaxPooling2D at 0x1ed9a932bb0>,\n",
       " <keras.layers.convolutional.conv2d.Conv2D at 0x1ed9a932d00>,\n",
       " <keras.layers.convolutional.conv2d.Conv2D at 0x1ed9a932370>,\n",
       " <keras.layers.convolutional.conv2d.Conv2D at 0x1ed9a8b1520>,\n",
       " <keras.layers.pooling.max_pooling2d.MaxPooling2D at 0x1ed9a951a00>,\n",
       " <keras.layers.reshaping.flatten.Flatten at 0x1ed9a951490>,\n",
       " <keras.layers.core.dense.Dense at 0x1ed9a944100>,\n",
       " <keras.layers.core.dense.Dense at 0x1ed9a95e460>,\n",
       " <keras.layers.core.dense.Dense at 0x1ed9a95eac0>]"
      ]
     },
     "execution_count": 53,
     "metadata": {},
     "output_type": "execute_result"
    }
   ],
   "source": [
    "M_vgg.layers"
   ]
  },
  {
   "cell_type": "code",
   "execution_count": 54,
   "id": "dd6d1d9a",
   "metadata": {},
   "outputs": [],
   "source": [
    "M1 = Sequential()\n",
    "for layer in M_vgg.layers:\n",
    "    M1.add(layer)"
   ]
  },
  {
   "cell_type": "code",
   "execution_count": 55,
   "id": "a2ead782",
   "metadata": {},
   "outputs": [
    {
     "name": "stdout",
     "output_type": "stream",
     "text": [
      "Model: \"sequential_1\"\n",
      "_________________________________________________________________\n",
      " Layer (type)                Output Shape              Param #   \n",
      "=================================================================\n",
      " block1_conv1 (Conv2D)       (None, 224, 224, 64)      1792      \n",
      "                                                                 \n",
      " block1_conv2 (Conv2D)       (None, 224, 224, 64)      36928     \n",
      "                                                                 \n",
      " block1_pool (MaxPooling2D)  (None, 112, 112, 64)      0         \n",
      "                                                                 \n",
      " block2_conv1 (Conv2D)       (None, 112, 112, 128)     73856     \n",
      "                                                                 \n",
      " block2_conv2 (Conv2D)       (None, 112, 112, 128)     147584    \n",
      "                                                                 \n",
      " block2_pool (MaxPooling2D)  (None, 56, 56, 128)       0         \n",
      "                                                                 \n",
      " block3_conv1 (Conv2D)       (None, 56, 56, 256)       295168    \n",
      "                                                                 \n",
      " block3_conv2 (Conv2D)       (None, 56, 56, 256)       590080    \n",
      "                                                                 \n",
      " block3_conv3 (Conv2D)       (None, 56, 56, 256)       590080    \n",
      "                                                                 \n",
      " block3_pool (MaxPooling2D)  (None, 28, 28, 256)       0         \n",
      "                                                                 \n",
      " block4_conv1 (Conv2D)       (None, 28, 28, 512)       1180160   \n",
      "                                                                 \n",
      " block4_conv2 (Conv2D)       (None, 28, 28, 512)       2359808   \n",
      "                                                                 \n",
      " block4_conv3 (Conv2D)       (None, 28, 28, 512)       2359808   \n",
      "                                                                 \n",
      " block4_pool (MaxPooling2D)  (None, 14, 14, 512)       0         \n",
      "                                                                 \n",
      " block5_conv1 (Conv2D)       (None, 14, 14, 512)       2359808   \n",
      "                                                                 \n",
      " block5_conv2 (Conv2D)       (None, 14, 14, 512)       2359808   \n",
      "                                                                 \n",
      " block5_conv3 (Conv2D)       (None, 14, 14, 512)       2359808   \n",
      "                                                                 \n",
      " block5_pool (MaxPooling2D)  (None, 7, 7, 512)         0         \n",
      "                                                                 \n",
      " flatten (Flatten)           (None, 25088)             0         \n",
      "                                                                 \n",
      " fc1 (Dense)                 (None, 4096)              102764544 \n",
      "                                                                 \n",
      " fc2 (Dense)                 (None, 4096)              16781312  \n",
      "                                                                 \n",
      " predictions (Dense)         (None, 1000)              4097000   \n",
      "                                                                 \n",
      "=================================================================\n",
      "Total params: 138,357,544\n",
      "Trainable params: 138,357,544\n",
      "Non-trainable params: 0\n",
      "_________________________________________________________________\n"
     ]
    }
   ],
   "source": [
    "M1.summary()"
   ]
  },
  {
   "cell_type": "code",
   "execution_count": 56,
   "id": "19844c15",
   "metadata": {},
   "outputs": [],
   "source": [
    "for layer in M1.layers:\n",
    "    layer.trainable = False"
   ]
  },
  {
   "cell_type": "code",
   "execution_count": 58,
   "id": "85391e98",
   "metadata": {},
   "outputs": [],
   "source": [
    "M1.add(Dense(25,activation='softmax'))"
   ]
  },
  {
   "cell_type": "code",
   "execution_count": 59,
   "id": "ad252719",
   "metadata": {},
   "outputs": [
    {
     "name": "stdout",
     "output_type": "stream",
     "text": [
      "Model: \"sequential_1\"\n",
      "_________________________________________________________________\n",
      " Layer (type)                Output Shape              Param #   \n",
      "=================================================================\n",
      " block1_conv1 (Conv2D)       (None, 224, 224, 64)      1792      \n",
      "                                                                 \n",
      " block1_conv2 (Conv2D)       (None, 224, 224, 64)      36928     \n",
      "                                                                 \n",
      " block1_pool (MaxPooling2D)  (None, 112, 112, 64)      0         \n",
      "                                                                 \n",
      " block2_conv1 (Conv2D)       (None, 112, 112, 128)     73856     \n",
      "                                                                 \n",
      " block2_conv2 (Conv2D)       (None, 112, 112, 128)     147584    \n",
      "                                                                 \n",
      " block2_pool (MaxPooling2D)  (None, 56, 56, 128)       0         \n",
      "                                                                 \n",
      " block3_conv1 (Conv2D)       (None, 56, 56, 256)       295168    \n",
      "                                                                 \n",
      " block3_conv2 (Conv2D)       (None, 56, 56, 256)       590080    \n",
      "                                                                 \n",
      " block3_conv3 (Conv2D)       (None, 56, 56, 256)       590080    \n",
      "                                                                 \n",
      " block3_pool (MaxPooling2D)  (None, 28, 28, 256)       0         \n",
      "                                                                 \n",
      " block4_conv1 (Conv2D)       (None, 28, 28, 512)       1180160   \n",
      "                                                                 \n",
      " block4_conv2 (Conv2D)       (None, 28, 28, 512)       2359808   \n",
      "                                                                 \n",
      " block4_conv3 (Conv2D)       (None, 28, 28, 512)       2359808   \n",
      "                                                                 \n",
      " block4_pool (MaxPooling2D)  (None, 14, 14, 512)       0         \n",
      "                                                                 \n",
      " block5_conv1 (Conv2D)       (None, 14, 14, 512)       2359808   \n",
      "                                                                 \n",
      " block5_conv2 (Conv2D)       (None, 14, 14, 512)       2359808   \n",
      "                                                                 \n",
      " block5_conv3 (Conv2D)       (None, 14, 14, 512)       2359808   \n",
      "                                                                 \n",
      " block5_pool (MaxPooling2D)  (None, 7, 7, 512)         0         \n",
      "                                                                 \n",
      " flatten (Flatten)           (None, 25088)             0         \n",
      "                                                                 \n",
      " fc1 (Dense)                 (None, 4096)              102764544 \n",
      "                                                                 \n",
      " fc2 (Dense)                 (None, 4096)              16781312  \n",
      "                                                                 \n",
      " predictions (Dense)         (None, 1000)              4097000   \n",
      "                                                                 \n",
      " dense_2 (Dense)             (None, 25)                25025     \n",
      "                                                                 \n",
      "=================================================================\n",
      "Total params: 138,382,569\n",
      "Trainable params: 25,025\n",
      "Non-trainable params: 138,357,544\n",
      "_________________________________________________________________\n"
     ]
    }
   ],
   "source": [
    "M1.summary()"
   ]
  },
  {
   "cell_type": "code",
   "execution_count": 60,
   "id": "adf8c886",
   "metadata": {},
   "outputs": [],
   "source": [
    "M1.compile(Adam(learning_rate=0.00015),loss=keras.losses.categorical_crossentropy,metrics=keras.metrics.accuracy)"
   ]
  },
  {
   "cell_type": "code",
   "execution_count": 61,
   "id": "78bcfdd0",
   "metadata": {},
   "outputs": [
    {
     "name": "stdout",
     "output_type": "stream",
     "text": [
      "Epoch 1/5\n",
      "101/101 [==============================] - 419s 4s/step - loss: 3.2140 - accuracy: 0.0000e+00\n",
      "Epoch 2/5\n",
      "101/101 [==============================] - 401s 4s/step - loss: 3.2065 - accuracy: 0.0000e+00\n",
      "Epoch 3/5\n",
      "101/101 [==============================] - 412s 4s/step - loss: 3.1993 - accuracy: 0.0000e+00\n",
      "Epoch 4/5\n",
      "101/101 [==============================] - 398s 4s/step - loss: 3.1922 - accuracy: 0.0000e+00\n",
      "Epoch 5/5\n",
      "101/101 [==============================] - 414s 4s/step - loss: 3.1852 - accuracy: 0.0000e+00\n"
     ]
    },
    {
     "data": {
      "text/plain": [
       "<keras.callbacks.History at 0x1ed9a1034c0>"
      ]
     },
     "execution_count": 61,
     "metadata": {},
     "output_type": "execute_result"
    }
   ],
   "source": [
    "M1.fit(train_img,epochs=5, verbose=1)"
   ]
  },
  {
   "cell_type": "code",
   "execution_count": 62,
   "id": "2bebb5f2",
   "metadata": {},
   "outputs": [
    {
     "data": {
      "text/plain": [
       "dict_keys(['loss', 'accuracy'])"
      ]
     },
     "execution_count": 62,
     "metadata": {},
     "output_type": "execute_result"
    }
   ],
   "source": [
    "M1.history.history.keys()"
   ]
  },
  {
   "cell_type": "code",
   "execution_count": 63,
   "id": "3a26f7b5",
   "metadata": {},
   "outputs": [
    {
     "data": {
      "text/plain": [
       "Text(0.5, 1.0, 'Loss Curves')"
      ]
     },
     "execution_count": 63,
     "metadata": {},
     "output_type": "execute_result"
    },
    {
     "data": {
      "image/png": "[encoded data removed]",
      "text/plain": [
       "<Figure size 576x432 with 1 Axes>"
      ]
     },
     "metadata": {
      "needs_background": "light"
     },
     "output_type": "display_data"
    }
   ],
   "source": [
    "#Plot the Loss Curves\n",
    "plt.figure(figsize=[8,6])\n",
    "plt.plot(M1.history.history['loss'],'r',linewidth=3.0)\n",
    "plt.plot(M1.history.history['accuracy'],'r',linewidth=3.0) \n",
    "plt.legend(['Training loss', 'Training Accuracy'],fontsize=18)\n",
    "plt.xlabel('Epochs ',fontsize=16)\n",
    "plt.ylabel('Loss',fontsize=16)\n",
    "plt.title('Loss Curves',fontsize=16)"
   ]
  },
  {
   "cell_type": "code",
   "execution_count": 64,
   "id": "a728ecd5",
   "metadata": {},
   "outputs": [
    {
     "name": "stdout",
     "output_type": "stream",
     "text": [
      "55/55 [==============================] - 215s 4s/step\n"
     ]
    }
   ],
   "source": [
    "test_pred = M1.predict(test_img)\n",
    "test_pred=np.argmax(test_pred,axis=1)"
   ]
  },
  {
   "cell_type": "code",
   "execution_count": 65,
   "id": "da0e0308",
   "metadata": {},
   "outputs": [
    {
     "data": {
      "text/plain": [
       "1732"
      ]
     },
     "execution_count": 65,
     "metadata": {},
     "output_type": "execute_result"
    }
   ],
   "source": [
    "len(test_pred)"
   ]
  },
  {
   "cell_type": "code",
   "execution_count": 66,
   "id": "2f0a1aef",
   "metadata": {},
   "outputs": [],
   "source": [
    "pred = pd.DataFrame(test_pred,columns=['pred_value'])"
   ]
  },
  {
   "cell_type": "code",
   "execution_count": 67,
   "id": "7209b9b2",
   "metadata": {},
   "outputs": [
    {
     "data": {
      "text/html": [
       "<div>\n",
       "<style scoped>\n",
       "    .dataframe tbody tr th:only-of-type {\n",
       "        vertical-align: middle;\n",
       "    }\n",
       "\n",
       "    .dataframe tbody tr th {\n",
       "        vertical-align: top;\n",
       "    }\n",
       "\n",
       "    .dataframe thead th {\n",
       "        text-align: right;\n",
       "    }\n",
       "</style>\n",
       "<table border=\"1\" class=\"dataframe\">\n",
       "  <thead>\n",
       "    <tr style=\"text-align: right;\">\n",
       "      <th></th>\n",
       "      <th>pred_value</th>\n",
       "    </tr>\n",
       "  </thead>\n",
       "  <tbody>\n",
       "    <tr>\n",
       "      <th>0</th>\n",
       "      <td>12</td>\n",
       "    </tr>\n",
       "    <tr>\n",
       "      <th>1</th>\n",
       "      <td>5</td>\n",
       "    </tr>\n",
       "    <tr>\n",
       "      <th>2</th>\n",
       "      <td>12</td>\n",
       "    </tr>\n",
       "    <tr>\n",
       "      <th>3</th>\n",
       "      <td>6</td>\n",
       "    </tr>\n",
       "    <tr>\n",
       "      <th>4</th>\n",
       "      <td>12</td>\n",
       "    </tr>\n",
       "    <tr>\n",
       "      <th>...</th>\n",
       "      <td>...</td>\n",
       "    </tr>\n",
       "    <tr>\n",
       "      <th>1727</th>\n",
       "      <td>10</td>\n",
       "    </tr>\n",
       "    <tr>\n",
       "      <th>1728</th>\n",
       "      <td>12</td>\n",
       "    </tr>\n",
       "    <tr>\n",
       "      <th>1729</th>\n",
       "      <td>6</td>\n",
       "    </tr>\n",
       "    <tr>\n",
       "      <th>1730</th>\n",
       "      <td>12</td>\n",
       "    </tr>\n",
       "    <tr>\n",
       "      <th>1731</th>\n",
       "      <td>12</td>\n",
       "    </tr>\n",
       "  </tbody>\n",
       "</table>\n",
       "<p>1732 rows × 1 columns</p>\n",
       "</div>"
      ],
      "text/plain": [
       "      pred_value\n",
       "0             12\n",
       "1              5\n",
       "2             12\n",
       "3              6\n",
       "4             12\n",
       "...          ...\n",
       "1727          10\n",
       "1728          12\n",
       "1729           6\n",
       "1730          12\n",
       "1731          12\n",
       "\n",
       "[1732 rows x 1 columns]"
      ]
     },
     "execution_count": 67,
     "metadata": {},
     "output_type": "execute_result"
    }
   ],
   "source": [
    "pred"
   ]
  },
  {
   "cell_type": "code",
   "execution_count": 68,
   "id": "7d2d43a4",
   "metadata": {},
   "outputs": [],
   "source": [
    "cls = {0 : 'rice',\n",
    "        1 : 'candy',\n",
    "        2 : 'jam',\n",
    "        3 : 'coffee',\n",
    "        4 : 'vinegar',\n",
    "        5 : 'chocolate',\n",
    "        6 : 'sugar',\n",
    "        7 : 'water',\n",
    "        8 : 'juice',\n",
    "        9 : 'milk',\n",
    "        10 : 'soda',\n",
    "        11 : 'nuts',\n",
    "        12 : 'chips',\n",
    "        13 : 'spices',\n",
    "        14 : 'cereal',\n",
    "        15 : 'beans',\n",
    "        16 : 'cake',\n",
    "        17 : 'honey',\n",
    "        18 : 'flour',\n",
    "        19 : 'pasta',\n",
    "        20 : 'tomatosauce',\n",
    "        21 : 'tea',\n",
    "        22 : 'corn',\n",
    "        23 : 'oil',\n",
    "        24 : 'fish'}"
   ]
  },
  {
   "cell_type": "code",
   "execution_count": 69,
   "id": "95e0e848",
   "metadata": {},
   "outputs": [],
   "source": [
    "pred['class'] = pred.pred_value.apply(lambda x : cls.get(x))"
   ]
  },
  {
   "cell_type": "code",
   "execution_count": 70,
   "id": "59b6ea6e",
   "metadata": {},
   "outputs": [],
   "source": [
    "output = pd.read_csv(path+'Dataset Labels/test.csv')"
   ]
  },
  {
   "cell_type": "code",
   "execution_count": 71,
   "id": "2a82c867",
   "metadata": {},
   "outputs": [
    {
     "data": {
      "text/html": [
       "<div>\n",
       "<style scoped>\n",
       "    .dataframe tbody tr th:only-of-type {\n",
       "        vertical-align: middle;\n",
       "    }\n",
       "\n",
       "    .dataframe tbody tr th {\n",
       "        vertical-align: top;\n",
       "    }\n",
       "\n",
       "    .dataframe thead th {\n",
       "        text-align: right;\n",
       "    }\n",
       "</style>\n",
       "<table border=\"1\" class=\"dataframe\">\n",
       "  <thead>\n",
       "    <tr style=\"text-align: right;\">\n",
       "      <th></th>\n",
       "      <th>pred_value</th>\n",
       "      <th>class</th>\n",
       "    </tr>\n",
       "  </thead>\n",
       "  <tbody>\n",
       "    <tr>\n",
       "      <th>0</th>\n",
       "      <td>12</td>\n",
       "      <td>chips</td>\n",
       "    </tr>\n",
       "    <tr>\n",
       "      <th>1</th>\n",
       "      <td>5</td>\n",
       "      <td>chocolate</td>\n",
       "    </tr>\n",
       "    <tr>\n",
       "      <th>2</th>\n",
       "      <td>12</td>\n",
       "      <td>chips</td>\n",
       "    </tr>\n",
       "    <tr>\n",
       "      <th>3</th>\n",
       "      <td>6</td>\n",
       "      <td>sugar</td>\n",
       "    </tr>\n",
       "    <tr>\n",
       "      <th>4</th>\n",
       "      <td>12</td>\n",
       "      <td>chips</td>\n",
       "    </tr>\n",
       "    <tr>\n",
       "      <th>...</th>\n",
       "      <td>...</td>\n",
       "      <td>...</td>\n",
       "    </tr>\n",
       "    <tr>\n",
       "      <th>1727</th>\n",
       "      <td>10</td>\n",
       "      <td>soda</td>\n",
       "    </tr>\n",
       "    <tr>\n",
       "      <th>1728</th>\n",
       "      <td>12</td>\n",
       "      <td>chips</td>\n",
       "    </tr>\n",
       "    <tr>\n",
       "      <th>1729</th>\n",
       "      <td>6</td>\n",
       "      <td>sugar</td>\n",
       "    </tr>\n",
       "    <tr>\n",
       "      <th>1730</th>\n",
       "      <td>12</td>\n",
       "      <td>chips</td>\n",
       "    </tr>\n",
       "    <tr>\n",
       "      <th>1731</th>\n",
       "      <td>12</td>\n",
       "      <td>chips</td>\n",
       "    </tr>\n",
       "  </tbody>\n",
       "</table>\n",
       "<p>1732 rows × 2 columns</p>\n",
       "</div>"
      ],
      "text/plain": [
       "      pred_value      class\n",
       "0             12      chips\n",
       "1              5  chocolate\n",
       "2             12      chips\n",
       "3              6      sugar\n",
       "4             12      chips\n",
       "...          ...        ...\n",
       "1727          10       soda\n",
       "1728          12      chips\n",
       "1729           6      sugar\n",
       "1730          12      chips\n",
       "1731          12      chips\n",
       "\n",
       "[1732 rows x 2 columns]"
      ]
     },
     "execution_count": 71,
     "metadata": {},
     "output_type": "execute_result"
    }
   ],
   "source": [
    "pred"
   ]
  },
  {
   "cell_type": "code",
   "execution_count": 72,
   "id": "c6377682",
   "metadata": {},
   "outputs": [],
   "source": [
    "output_M1 = pd.concat([output,pred['class']],axis=1)"
   ]
  },
  {
   "cell_type": "markdown",
   "id": "09e55d7b",
   "metadata": {},
   "source": [
    "### Output Files"
   ]
  },
  {
   "cell_type": "code",
   "execution_count": 80,
   "id": "9018bdef",
   "metadata": {},
   "outputs": [],
   "source": [
    "output_M0.to_csv(path+'Outputs/M0_Output.csv')\n",
    "output_M1.to_csv(path+'Outputs/M1_Output.csv')"
   ]
  }
 ],
 "metadata": {
  "kernelspec": {
   "display_name": "Python 3 (ipykernel)",
   "language": "python",
   "name": "python3"
  },
  "language_info": {
   "codemirror_mode": {
    "name": "ipython",
    "version": 3
   },
   "file_extension": ".py",
   "mimetype": "text/x-python",
   "name": "python",
   "nbconvert_exporter": "python",
   "pygments_lexer": "ipython3",
   "version": "3.9.7"
  }
 },
 "nbformat": 4,
 "nbformat_minor": 5
}
